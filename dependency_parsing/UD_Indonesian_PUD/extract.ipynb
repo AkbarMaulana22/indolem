{
 "cells": [
  {
   "cell_type": "code",
   "execution_count": 7,
   "metadata": {},
   "outputs": [],
   "source": [
    "import os\n",
    "import numpy as np\n",
    "from conllu import parse\n",
    "from collections import defaultdict\n",
    "import torch\n",
    "\n",
    "sentences = parse(open('id_pud-ud-test-revised-1-0.conllu', 'r').read())"
   ]
  },
  {
   "cell_type": "code",
   "execution_count": 2,
   "metadata": {},
   "outputs": [],
   "source": [
    "# Format change: Word_BERT_sentenceID_wordID\n",
    "word2index = {}\n",
    "idx=0\n",
    "words = defaultdict(int)\n",
    "for sentence in sentences:\n",
    "    suffix = '_BERT_'+sentence.metadata['sent_id']\n",
    "    for word in sentence:\n",
    "        cur_suffix = suffix + '_' + str(word['id'])\n",
    "        new_word = word['form'] + cur_suffix  \n",
    "        word['form'] = new_word\n",
    "        word2index[new_word]=idx\n",
    "        idx+=1"
   ]
  },
  {
   "cell_type": "code",
   "execution_count": 4,
   "metadata": {},
   "outputs": [],
   "source": [
    "import json\n",
    "with open('word2index.json', 'w') as file:\n",
    "    json.dump(word2index, file)"
   ]
  },
  {
   "cell_type": "code",
   "execution_count": 5,
   "metadata": {},
   "outputs": [],
   "source": [
    "import json\n",
    "with open('word2index.json', 'r') as file:\n",
    "    new_d = json.load(file)"
   ]
  },
  {
   "cell_type": "code",
   "execution_count": 4,
   "metadata": {},
   "outputs": [],
   "source": [
    "def extract_bert(sentence, model, tokz, save_to, word2index):\n",
    "    os.makedirs(save_to)\n",
    "    indexes = []\n",
    "    subtokens = ['[CLS]']\n",
    "    for word in sentence:\n",
    "        indexes.append(len(subtokens))\n",
    "        real_word = word['form'].split('_BERT_')[0]\n",
    "        subtoken = tokz.tokenize(real_word)\n",
    "        subtokens += subtoken\n",
    "    subtokens += ['[SEP]']\n",
    "    \n",
    "    subtoken_ids = tokz.convert_tokens_to_ids(subtokens)\n",
    "    segment_ids = [0] * len(subtokens)\n",
    "    \n",
    "    subtoken_ids_t = torch.tensor(subtoken_ids).unsqueeze(0)\n",
    "    segment_ids_t = torch.tensor(segment_ids).unsqueeze(0)\n",
    "    \n",
    "    output, _ = model(input_ids=subtoken_ids_t, token_type_ids=segment_ids_t)\n",
    "    output = output.view(len(subtoken_ids), model.config.hidden_size)\n",
    "    indexes = torch.tensor(indexes)\n",
    "    selected_output = torch.index_select(output, 0, indexes)\n",
    "    \n",
    "    assert len(indexes) == len(sentence) == selected_output.shape[0]\n",
    "    for idx in range(len(sentence)):\n",
    "        word = sentence[idx]['form']\n",
    "        array = selected_output[idx].data.numpy()\n",
    "        np.save(save_to+str(word2index[word]), array)"
   ]
  },
  {
   "cell_type": "code",
   "execution_count": null,
   "metadata": {},
   "outputs": [],
   "source": []
  },
  {
   "cell_type": "code",
   "execution_count": 11,
   "metadata": {},
   "outputs": [],
   "source": [
    "#Extract mBERT embedding\n",
    "from transformers import BertTokenizer, BertModel\n",
    "\n",
    "bert = BertModel.from_pretrained('bert-base-multilingual-uncased')\n",
    "tokenizer = BertTokenizer.from_pretrained('bert-base-multilingual-uncased', do_lower_case=True)\n",
    "save_to='data/mbert/'\n",
    "\n",
    "for sentence in sentences:\n",
    "    extract_bert(sentence, bert, tokenizer, save_to, word2index)"
   ]
  },
  {
   "cell_type": "code",
   "execution_count": 5,
   "metadata": {},
   "outputs": [
    {
     "name": "stderr",
     "output_type": "stream",
     "text": [
      "Calling BertTokenizer.from_pretrained() with the path to a single file or url is deprecated\n"
     ]
    }
   ],
   "source": [
    "#Extract IndoBERT embedding\n",
    "from transformers import BertTokenizer, BertModel\n",
    "\n",
    "tokenizer = BertTokenizer.from_pretrained('indolem/indobert-base-uncased', do_lower_case=True)\n",
    "bert = BertModel.from_pretrained('indolem/indobert-base-uncased')\n",
    "save_to='data/indobert/'\n",
    "\n",
    "for sentence in sentences:\n",
    "    extract_bert(sentence, bert, tokenizer, save_to, word2index)"
   ]
  },
  {
   "cell_type": "code",
   "execution_count": 14,
   "metadata": {},
   "outputs": [],
   "source": [
    "#Extract MalayBERT embedding, Only cased-malay-bert is available\n",
    "from transformers import AlbertTokenizer, BertModel\n",
    "\n",
    "tokenizer = AlbertTokenizer.from_pretrained('huseinzol05/bert-base-bahasa-cased', \n",
    "                unk_token = '[UNK]', pad_token='[PAD]', do_lower_case=False)\n",
    "bert = BertModel.from_pretrained('huseinzol05/bert-base-bahasa-cased')\n",
    "save_to='data/malaybert/'\n",
    "\n",
    "for sentence in sentences:\n",
    "    extract_bert(sentence, bert, tokenizer, save_to, word2index)"
   ]
  },
  {
   "cell_type": "code",
   "execution_count": null,
   "metadata": {},
   "outputs": [],
   "source": []
  },
  {
   "cell_type": "code",
   "execution_count": 11,
   "metadata": {},
   "outputs": [],
   "source": [
    "#create new folds\n",
    "import glob\n",
    "os.makedirs('data/folds', exist_ok=True)\n",
    "\n",
    "def write(conlls, fname):\n",
    "    f = open(fname, 'w')\n",
    "    for conll in conlls:\n",
    "        f.write(conll.serialize())\n",
    "    f.close()\n",
    "    \n",
    "for file in glob.glob('folds/*'):\n",
    "    sentences = parse(open(file).read())\n",
    "    save_to = 'data/folds/'+file.split('/')[-1]  \n",
    "    for sentence in sentences:\n",
    "        suffix = '_BERT_'+sentence.metadata['sent_id']\n",
    "        for word in sentence:\n",
    "            cur_suffix = suffix + '_' + str(word['id'])\n",
    "            new_word = word['form'] + cur_suffix  \n",
    "            word['form'] = new_word\n",
    "    write(sentences, save_to)"
   ]
  },
  {
   "cell_type": "code",
   "execution_count": null,
   "metadata": {},
   "outputs": [],
   "source": []
  }
 ],
 "metadata": {
  "kernelspec": {
   "display_name": "Python 3",
   "language": "python",
   "name": "python3"
  },
  "language_info": {
   "codemirror_mode": {
    "name": "ipython",
    "version": 3
   },
   "file_extension": ".py",
   "mimetype": "text/x-python",
   "name": "python",
   "nbconvert_exporter": "python",
   "pygments_lexer": "ipython3",
   "version": "3.7.6"
  }
 },
 "nbformat": 4,
 "nbformat_minor": 4
}
